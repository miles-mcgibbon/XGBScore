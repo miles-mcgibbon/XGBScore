{
 "cells": [
  {
   "cell_type": "markdown",
   "id": "linear-radio",
   "metadata": {},
   "source": [
    "2021-02-12\n",
    "\n",
    "# **XGBScore: A Gradient Boosted Decision Tree Scoring Function for Structure Based Virtual Screening**\n",
    "\n",
    "This is my lab book for my dissertation project. It will contain my daily work towards the project, and *in silico* experiments performed in python 3 code cells for debugging and evaluation before being turned into separate scripts for publication and analysis.\n",
    "\n",
    "### **Table of Contents**\n",
    "- Database Scraping\n",
    "- Dataset Assembly\n",
    "- Dataset Cleaning\n",
    "- Feature Engineering\n",
    "- Adding Decoys\n",
    "- Splitting the Data\n",
    "- Feature Importance/Dimensionality Reduction\n",
    "- Training the Model\n",
    "- Optimising the Model\n",
    "- Evaluating the Model"
   ]
  },
  {
   "cell_type": "markdown",
   "id": "analyzed-flesh",
   "metadata": {},
   "source": [
    "# **Database Scraping**\n",
    "\n",
    "While there will likely be lots of redundancy, four databases are being scraped for data for the training and test sets. These are:\n",
    "- Binding MOAD\n",
    "- PDBBind\n",
    "- Binding DB\n",
    "- DUD-E\n",
    "\n",
    "## Binding MOAD\n",
    "\n",
    "Binding MOAD offers several different datasets. I have downloaded the structures and binding data for the **Non-redundant dataset only with binding data**. This dataset contains all complexes which have known binding data, and includes one 'leader' from each family with similar binding to prevent very similar data clogging the dataset. \n",
    "\n",
    "## PDBBind\n",
    "\n",
    "PDBBind server seems to be down at the moment, so I will return to this dataset later.\n",
    "\n",
    "## Binding DB\n",
    "\n",
    "Cannot see a way of differentiating only those complexes which have crystal structures attached to them. Let's move on to DUD-E.\n",
    "\n",
    "## DUD-E\n",
    "\n",
    "For some reason, when I try to download the whole dataset at once, the server is throwing a 503/overload saying I've exceeded the maximum number of simultaneous downloads, despite it only being one tarball file. I think we can scrape the files one by one fairly quickly as there are only 102 of them. Each file has a standard base url of 'dude.docking.org/targets/{target}/{target.tar.gz}'. So if we scrape all the hrefs from the main index page, we can just populate a list and ping them one at a time:"
   ]
  },
  {
   "cell_type": "code",
   "execution_count": 26,
   "id": "other-vermont",
   "metadata": {},
   "outputs": [
    {
     "name": "stderr",
     "output_type": "stream",
     "text": [
      "100%|██████████| 102/102 [37:25<00:00, 22.02s/it] \n"
     ]
    }
   ],
   "source": [
    "from bs4 import BeautifulSoup\n",
    "import requests\n",
    "from tqdm import tqdm\n",
    "\n",
    "index_url = 'http://dude.docking.org/subsets/all'\n",
    "\n",
    "def create_target_url(url):\n",
    "    position = url.find('/targets/') + len('/targets/')\n",
    "    target_name = url[position:]\n",
    "    target_url = f'http://dude.docking.org/targets/{target_name}/{target_name}.tar.gz'\n",
    "    return target_url, target_name\n",
    "\n",
    "def save_target_file(url):\n",
    "    url, target_name = create_target_url(url)\n",
    "    target_path = f'/home/milesm/Dissertation/Data/Raw/DUD-E/{target_name}.tar.gz'\n",
    "    response = requests.get(url, verify=False)\n",
    "    if response.status_code == 200:\n",
    "        with open(target_path, 'wb') as file:\n",
    "            file.write(response.content)\n",
    "            file.close()\n",
    "    else:\n",
    "        print(f'Whoops! Somethings wrong: Response {response.status_code}')\n",
    "\n",
    "index_page = requests.get(index_url)\n",
    "html_content = index_page.text\n",
    "soup = BeautifulSoup(html_content, 'html.parser')\n",
    "file_urls = [url['href'] for url in soup.find_all('a') if '/targets/' in str(url)]\n",
    "\n",
    "with tqdm(total=len(file_urls)) as pbar:\n",
    "    for target_file in file_urls:\n",
    "        save_target_file(target_file)\n",
    "        pbar.update(1)"
   ]
  },
  {
   "cell_type": "markdown",
   "id": "welsh-cleaning",
   "metadata": {},
   "source": [
    "2021-02-13\n",
    "\n",
    "DUD-E files have been downloaded in a separate tar.gz file for each one. These need extracting and sorting. "
   ]
  },
  {
   "cell_type": "code",
   "execution_count": 5,
   "id": "interpreted-bernard",
   "metadata": {},
   "outputs": [
    {
     "name": "stderr",
     "output_type": "stream",
     "text": [
      "100%|██████████| 102/102 [00:09<00:00, 11.33it/s]\n"
     ]
    }
   ],
   "source": [
    "import tarfile\n",
    "import os\n",
    "from tqdm import tqdm\n",
    "\n",
    "def extract_file(fname):\n",
    "    tar = tarfile.open(fname, \"r:gz\")\n",
    "    tar.extractall()\n",
    "    tar.close()\n",
    "\n",
    "files = [('/home/milesm/Dissertation/Data/Raw/DUD-E/Compressed/' + file) for file in os.listdir('/home/milesm/Dissertation/Data/Raw/DUD-E/Compressed/')]\n",
    "\n",
    "with tqdm(total=len(files)) as pbar:\n",
    "    for file in files:\n",
    "        extract_file(file)\n",
    "        pbar.update(1)"
   ]
  },
  {
   "cell_type": "markdown",
   "id": "limited-conclusion",
   "metadata": {},
   "source": [
    "The Binding MOAD files are stored as 'Biounit' files or .bio files, so I can't open them with PyMOL and have to use JMOLViewer. We should download the original PDB files as well just in case they are more useful:"
   ]
  },
  {
   "cell_type": "code",
   "execution_count": null,
   "id": "played-knock",
   "metadata": {},
   "outputs": [
    {
     "name": "stderr",
     "output_type": "stream",
     "text": [
      " 31%|███       | 1535/4991 [34:26<6:45:36,  7.04s/it] "
     ]
    }
   ],
   "source": [
    "import os\n",
    "import requests\n",
    "from tqdm import tqdm\n",
    "\n",
    "def create_target_url(filepath):\n",
    "    target_name = filepath.split('.')[0]\n",
    "    target_url = f'https://files.rcsb.org/download/{target_name}.pdb'\n",
    "    return target_url, target_name\n",
    "\n",
    "def save_target_file(url):\n",
    "    url, target_name = create_target_url(url)\n",
    "    target_path = f'/home/milesm/Dissertation/Data/Raw/Binding_MOAD/original_PDB_files/{target_name}.pdb'\n",
    "    response = requests.get(url)\n",
    "    if response.status_code == 200:\n",
    "        with open(target_path, 'wb') as file:\n",
    "            file.write(response.content)\n",
    "            file.close()\n",
    "    else:\n",
    "        print(f'Whoops! Somethings wrong: Response {response.status_code}')\n",
    "\n",
    "\n",
    "filepaths = os.listdir('/home/milesm/Dissertation/Data/Raw/Binding_MOAD/Extracted/BindingMOAD_2020')\n",
    "\n",
    "with tqdm(total=len(filepaths)) as pbar:\n",
    "    for target_file in filepaths:\n",
    "        save_target_file(target_file)\n",
    "        pbar.update(1)"
   ]
  },
  {
   "cell_type": "markdown",
   "id": "executed-mouse",
   "metadata": {},
   "source": [
    "# Data Cleaning\n",
    "\n",
    "Right now we have multiple files of separate ligands and receptors that we know either bind or don't bind. These will need (I think) docking and converting into pdbqt files for analysis by BINANA/Scoria. We will use ODDT and Autodock for this(?)"
   ]
  },
  {
   "cell_type": "markdown",
   "id": "general-bumper",
   "metadata": {},
   "source": [
    "2021-02-13"
   ]
  },
  {
   "cell_type": "code",
   "execution_count": 13,
   "id": "registered-airplane",
   "metadata": {},
   "outputs": [
    {
     "name": "stdout",
     "output_type": "stream",
     "text": [
      "True\n"
     ]
    },
    {
     "ename": "AttributeError",
     "evalue": "'NoneType' object has no attribute 'readfile'",
     "output_type": "error",
     "traceback": [
      "\u001b[0;31m---------------------------------------------------------------------------\u001b[0m",
      "\u001b[0;31mAttributeError\u001b[0m                            Traceback (most recent call last)",
      "\u001b[0;32m<ipython-input-13-d9124f618026>\u001b[0m in \u001b[0;36m<module>\u001b[0;34m\u001b[0m\n\u001b[1;32m      4\u001b[0m \u001b[0mprint\u001b[0m\u001b[0;34m(\u001b[0m\u001b[0mos\u001b[0m\u001b[0;34m.\u001b[0m\u001b[0mpath\u001b[0m\u001b[0;34m.\u001b[0m\u001b[0misfile\u001b[0m\u001b[0;34m(\u001b[0m\u001b[0;34m'/home/milesm/Dissertation/Data/Raw/Binding_MOAD/original_PDB_files/1a0q.pdb'\u001b[0m\u001b[0;34m)\u001b[0m\u001b[0;34m)\u001b[0m\u001b[0;34m\u001b[0m\u001b[0;34m\u001b[0m\u001b[0m\n\u001b[1;32m      5\u001b[0m \u001b[0moddt\u001b[0m\u001b[0;34m.\u001b[0m\u001b[0mtoolkit\u001b[0m \u001b[0;34m=\u001b[0m \u001b[0;32mNone\u001b[0m\u001b[0;34m\u001b[0m\u001b[0;34m\u001b[0m\u001b[0m\n\u001b[0;32m----> 6\u001b[0;31m \u001b[0moddt\u001b[0m\u001b[0;34m.\u001b[0m\u001b[0mtoolkit\u001b[0m\u001b[0;34m.\u001b[0m\u001b[0mreadfile\u001b[0m\u001b[0;34m(\u001b[0m\u001b[0;34m'pdb'\u001b[0m\u001b[0;34m,\u001b[0m \u001b[0;34m'/home/milesm/Dissertation/Data/Raw/Binding_MOAD/original_PDB_files/1a0q.pdb'\u001b[0m\u001b[0;34m)\u001b[0m\u001b[0;34m\u001b[0m\u001b[0;34m\u001b[0m\u001b[0m\n\u001b[0m",
      "\u001b[0;31mAttributeError\u001b[0m: 'NoneType' object has no attribute 'readfile'"
     ]
    }
   ],
   "source": [
    "import os\n",
    "import oddt\n",
    "import openbabel\n",
    "print(os.path.isfile('/home/milesm/Dissertation/Data/Raw/Binding_MOAD/original_PDB_files/1a0q.pdb'))\n",
    "oddt.toolkit.readfile('pdb', '/home/milesm/Dissertation/Data/Raw/Binding_MOAD/original_PDB_files/1a0q.pdb')"
   ]
  },
  {
   "cell_type": "markdown",
   "id": "federal-assumption",
   "metadata": {},
   "source": [
    "2021-02-18\n",
    "\n",
    "I have had to build openbabel several times from source with different flags for cmake before getting it working - what worked was apt installing:\n",
    "- libopenbabel-dev\n",
    "- libopenbabel4v5\n",
    "- openbabel-gui\n",
    "\n",
    "And then cloning openbabel from github and building from source with specific flags. Now, to try this code again!import os\n",
    "import oddt\n",
    "import openbabel\n",
    "print(os.path.isfile('/home/milesm/Dissertation/Data/Raw/Binding_MOAD/original_PDB_files/1a0q.pdb'))\n",
    "oddt.\n",
    "oddt.toolkit.readfile('pdb', '/home/milesm/Dissertation/Data/Raw/Binding_MOAD/original_PDB_files/1a0q.pdb')"
   ]
  },
  {
   "cell_type": "code",
   "execution_count": 29,
   "id": "severe-opera",
   "metadata": {},
   "outputs": [
    {
     "name": "stdout",
     "output_type": "stream",
     "text": [
      "True\n"
     ]
    }
   ],
   "source": [
    "import os\n",
    "import oddt\n",
    "print(os.path.isfile('/home/milesm/Dissertation/Data/Raw/Binding_MOAD/original_PDB_files/1a0q.pdb'))\n",
    "molecules = oddt.toolkit.readfile('pdb', '/home/milesm/Dissertation/Data/Raw/Binding_MOAD/original_PDB_files/1a0q.pdb')"
   ]
  },
  {
   "cell_type": "code",
   "execution_count": 47,
   "id": "dominican-treasurer",
   "metadata": {},
   "outputs": [
    {
     "ename": "AttributeError",
     "evalue": "Molecule has no such property: ligand",
     "output_type": "error",
     "traceback": [
      "\u001b[0;31m---------------------------------------------------------------------------\u001b[0m",
      "\u001b[0;31mAttributeError\u001b[0m                            Traceback (most recent call last)",
      "\u001b[0;32m<ipython-input-47-231682fa5830>\u001b[0m in \u001b[0;36m<module>\u001b[0;34m\u001b[0m\n\u001b[1;32m      1\u001b[0m \u001b[0mmolecules\u001b[0m \u001b[0;34m=\u001b[0m \u001b[0moddt\u001b[0m\u001b[0;34m.\u001b[0m\u001b[0mtoolkit\u001b[0m\u001b[0;34m.\u001b[0m\u001b[0mreadfile\u001b[0m\u001b[0;34m(\u001b[0m\u001b[0;34m'pdb'\u001b[0m\u001b[0;34m,\u001b[0m \u001b[0;34m'/home/milesm/Dissertation/Data/Raw/Binding_MOAD/Extracted/BindingMOAD_2020/1a0q.pdb'\u001b[0m\u001b[0;34m)\u001b[0m\u001b[0;34m\u001b[0m\u001b[0;34m\u001b[0m\u001b[0m\n\u001b[1;32m      2\u001b[0m \u001b[0;32mfor\u001b[0m \u001b[0mmol\u001b[0m \u001b[0;32min\u001b[0m \u001b[0mmolecules\u001b[0m\u001b[0;34m:\u001b[0m\u001b[0;34m\u001b[0m\u001b[0;34m\u001b[0m\u001b[0m\n\u001b[0;32m----> 3\u001b[0;31m     \u001b[0mprint\u001b[0m\u001b[0;34m(\u001b[0m\u001b[0mmol\u001b[0m\u001b[0;34m.\u001b[0m\u001b[0mligand\u001b[0m\u001b[0;34m)\u001b[0m\u001b[0;34m\u001b[0m\u001b[0;34m\u001b[0m\u001b[0m\n\u001b[0m",
      "\u001b[0;32m~/.local/lib/python3.6/site-packages/oddt/toolkits/ob.py\u001b[0m in \u001b[0;36m__getattr__\u001b[0;34m(self, attr)\u001b[0m\n\u001b[1;32m    300\u001b[0m             \u001b[0;32mif\u001b[0m \u001b[0mattr\u001b[0m\u001b[0;34m.\u001b[0m\u001b[0mlower\u001b[0m\u001b[0;34m(\u001b[0m\u001b[0;34m)\u001b[0m \u001b[0;34m==\u001b[0m \u001b[0mdesc\u001b[0m\u001b[0;34m.\u001b[0m\u001b[0mlower\u001b[0m\u001b[0;34m(\u001b[0m\u001b[0;34m)\u001b[0m\u001b[0;34m:\u001b[0m\u001b[0;34m\u001b[0m\u001b[0;34m\u001b[0m\u001b[0m\n\u001b[1;32m    301\u001b[0m                 \u001b[0;32mreturn\u001b[0m \u001b[0mself\u001b[0m\u001b[0;34m.\u001b[0m\u001b[0mcalcdesc\u001b[0m\u001b[0;34m(\u001b[0m\u001b[0;34m[\u001b[0m\u001b[0mdesc\u001b[0m\u001b[0;34m]\u001b[0m\u001b[0;34m)\u001b[0m\u001b[0;34m[\u001b[0m\u001b[0mdesc\u001b[0m\u001b[0;34m]\u001b[0m\u001b[0;34m\u001b[0m\u001b[0;34m\u001b[0m\u001b[0m\n\u001b[0;32m--> 302\u001b[0;31m         \u001b[0;32mraise\u001b[0m \u001b[0mAttributeError\u001b[0m\u001b[0;34m(\u001b[0m\u001b[0;34m'Molecule has no such property: %s'\u001b[0m \u001b[0;34m%\u001b[0m \u001b[0mattr\u001b[0m\u001b[0;34m)\u001b[0m\u001b[0;34m\u001b[0m\u001b[0;34m\u001b[0m\u001b[0m\n\u001b[0m\u001b[1;32m    303\u001b[0m \u001b[0;34m\u001b[0m\u001b[0m\n\u001b[1;32m    304\u001b[0m     \u001b[0;32mdef\u001b[0m \u001b[0m_clear_cache\u001b[0m\u001b[0;34m(\u001b[0m\u001b[0mself\u001b[0m\u001b[0;34m)\u001b[0m\u001b[0;34m:\u001b[0m\u001b[0;34m\u001b[0m\u001b[0;34m\u001b[0m\u001b[0m\n",
      "\u001b[0;31mAttributeError\u001b[0m: Molecule has no such property: ligand"
     ]
    }
   ],
   "source": [
    "molecules = oddt.toolkit.readfile('pdb', '/home/milesm/Dissertation/Data/Raw/PDBBind/CASF-2016/coreset/1a30')\n",
    "for mol in molecules:\n",
    "    print(mol.ligand)"
   ]
  },
  {
   "cell_type": "code",
   "execution_count": 48,
   "id": "floppy-consciousness",
   "metadata": {},
   "outputs": [
    {
     "name": "stdout",
     "output_type": "stream",
     "text": [
      "ERROR: Unknown bond distance between elements N and ZN. Assuming 2.687.\n",
      "ERROR: Unknown bond distance between elements C and ZN. Assuming 2.687.\n",
      "ERROR: Unknown bond distance between elements O and ZN. Assuming 2.687.\n",
      "ERROR: Unknown bond distance between elements O and ZN. Assuming 2.687.\n",
      "ERROR: Unknown bond distance between elements N and ZN. Assuming 2.687.\n",
      "ERROR: Unknown bond distance between elements C and ZN. Assuming 2.687.\n",
      "ERROR: Unknown bond distance between elements N and ZN. Assuming 2.687.\n",
      "ERROR: Unknown bond distance between elements C and ZN. Assuming 2.687.\n",
      "ERROR: Unknown bond distance between elements O and ZN. Assuming 2.687.\n",
      "ERROR: Unknown bond distance between elements O and ZN. Assuming 2.687.\n",
      "ERROR: Unknown bond distance between elements C and ZN. Assuming 2.687.\n",
      "ERROR: Unknown bond distance between elements ZN and N. Assuming 2.687.\n",
      "ERROR: Unknown bond distance between elements ZN and C. Assuming 2.687.\n",
      "ERROR: Unknown bond distance between elements ZN and O. Assuming 2.687.\n",
      "ERROR: Unknown bond distance between elements ZN and O. Assuming 2.687.\n",
      "ERROR: Unknown bond distance between elements ZN and N. Assuming 2.687.\n",
      "ERROR: Unknown bond distance between elements ZN and C. Assuming 2.687.\n",
      "ERROR: Unknown bond distance between elements ZN and N. Assuming 2.687.\n",
      "ERROR: Unknown bond distance between elements ZN and C. Assuming 2.687.\n",
      "ERROR: Unknown bond distance between elements ZN and O. Assuming 2.687.\n",
      "ERROR: Unknown bond distance between elements ZN and O. Assuming 2.687.\n",
      "ERROR: Unknown bond distance between elements ZN and C. Assuming 2.687.\n"
     ]
    }
   ],
   "source": [
    "import scoria\n",
    "mol = scoria.Molecule()\n",
    "mol.load_pdb_into(filename='/home/milesm/Dissertation/Data/Raw/Binding_MOAD/original_PDB_files/1a0q.pdb')"
   ]
  },
  {
   "cell_type": "code",
   "execution_count": 43,
   "id": "worst-gamma",
   "metadata": {},
   "outputs": [
    {
     "name": "stdout",
     "output_type": "stream",
     "text": [
      "<class 'scoria.Molecule.Molecule'>\n"
     ]
    }
   ],
   "source": [
    "print(type(mol))"
   ]
  },
  {
   "cell_type": "code",
   "execution_count": 46,
   "id": "liberal-airport",
   "metadata": {},
   "outputs": [
    {
     "name": "stdout",
     "output_type": "stream",
     "text": [
      "{'_OtherMolecules__parent_molecule': <scoria.Molecule.Molecule object at 0x7fc9576964a8>}\n"
     ]
    }
   ],
   "source": [
    "print(mol.other_molecules.__dict__)"
   ]
  },
  {
   "cell_type": "code",
   "execution_count": 24,
   "id": "empirical-sound",
   "metadata": {},
   "outputs": [],
   "source": [
    "import os\n",
    "\n",
    "from Bio.PDB import *\n",
    "from tqdm import tqdm\n",
    "from warnings import filterwarnings\n",
    "filterwarnings('ignore')\n",
    "\n",
    "class LigandResidueSelect(Select):\n",
    "    \n",
    "    def __init__(self, chain, residue):\n",
    "        self.chain = chain\n",
    "        self.residue = residue\n",
    "\n",
    "    def accept_chain(self, chain):\n",
    "        return chain.id == self.chain.id\n",
    "\n",
    "    def accept_residue(self, residue):\n",
    "        \"\"\" Recognition of heteroatoms - Remove water molecules \"\"\"\n",
    "        return residue == self.residue and is_het(residue)\n",
    "\n",
    "class NonHetSelect(Select):\n",
    "    \n",
    "    def accept_residue(self, residue):\n",
    "        return 1 if residue.id[0] == \" \" else 0\n",
    "\n",
    "\n",
    "def is_het(residue):\n",
    "    res = residue.id[0]\n",
    "    return res != \" \" and res != \"W\"\n",
    "\n",
    "def extract_protein(pdb, filename):\n",
    "    io = PDBIO()\n",
    "    io.set_structure(pdb)\n",
    "    io.save(filename, NonHetSelect())\n",
    "\n",
    "def extract_ligands(pdb, filename):\n",
    "    \"\"\" Extraction of the heteroatoms of .pdb files \"\"\"\n",
    "    io = PDBIO()\n",
    "    io.set_structure(pdb)\n",
    "    for model in pdb:\n",
    "        for chain in model:\n",
    "            for residue in chain:\n",
    "                if not is_het(residue):\n",
    "                    continue\n",
    "                if '_ZN' in str(residue.id):\n",
    "                    pass\n",
    "                else:\n",
    "                    io.save(filename, LigandResidueSelect(chain, residue))\n",
    "\n",
    "def split_structure(structure_code, structure):\n",
    "    os.mkdir(f'/home/milesm/Dissertation/Data/Parsed/Binding_MOAD/{structure_code}')\n",
    "    extract_ligands(structure, f'/home/milesm/Dissertation/Data/Parsed/Binding_MOAD/{structure_code}/{structure_code}_ligand.pdb')\n",
    "    extract_protein(structure, f'/home/milesm/Dissertation/Data/Parsed/Binding_MOAD/{structure_code}/{structure_code}_receptor.pdb')\n",
    "\n",
    "parser = PDBParser()\n",
    "structure = parser.get_structure(\"Test\",\"/home/milesm/Desktop/1a0q.pdb\")\n",
    "split_structure('1a0q', structure)"
   ]
  },
  {
   "cell_type": "markdown",
   "id": "roman-moral",
   "metadata": {},
   "source": []
  }
 ],
 "metadata": {
  "kernelspec": {
   "display_name": "Python 3",
   "language": "python",
   "name": "python3"
  },
  "language_info": {
   "codemirror_mode": {
    "name": "ipython",
    "version": 3
   },
   "file_extension": ".py",
   "mimetype": "text/x-python",
   "name": "python",
   "nbconvert_exporter": "python",
   "pygments_lexer": "ipython3",
   "version": "3.6.9"
  }
 },
 "nbformat": 4,
 "nbformat_minor": 5
}
